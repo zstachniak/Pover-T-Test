{
 "cells": [
  {
   "cell_type": "code",
   "execution_count": 1,
   "metadata": {
    "collapsed": true
   },
   "outputs": [],
   "source": [
    "import pickle\n",
    "import pandas as pd\n",
    "from sklearn.preprocessing import MinMaxScaler\n",
    "# Import aggregation module\n",
    "import imp\n",
    "aggregation = imp.load_source('aggregation', '../../aggregation/aggregation.py')"
   ]
  },
  {
   "cell_type": "code",
   "execution_count": 2,
   "metadata": {
    "collapsed": true
   },
   "outputs": [],
   "source": [
    "# Load data\n",
    "with open('../indiv.pickle', 'rb') as file:\n",
    "    indiv = pickle.load(file)\n",
    "with open('../hhold.pickle', 'rb') as file:\n",
    "    hhold = pickle.load(file)"
   ]
  },
  {
   "cell_type": "code",
   "execution_count": 3,
   "metadata": {
    "collapsed": true
   },
   "outputs": [],
   "source": [
    "# Set id, iid as multi-index for easier aggregation\n",
    "X = indiv.set_index(['id', 'iid']).drop(labels=['poor'], axis=1)\n",
    "# Set id as index and keep only the target variable\n",
    "Y = pd.DataFrame(hhold.set_index(['id'])['poor'])"
   ]
  },
  {
   "cell_type": "code",
   "execution_count": null,
   "metadata": {
    "collapsed": true
   },
   "outputs": [],
   "source": [
    "# Choose the best aggregation functions based on spearman correlation (for numeric)\n",
    "# and chi-squared test (for categorical) data. Fit and transform.\n",
    "corr_agg = aggregation.Aggregate(X, Y=Y, groupby='id')\n",
    "result_agg = corr_agg.fit_transform()\n",
    "transform_dict = corr_agg.col_to_func"
   ]
  },
  {
   "cell_type": "code",
   "execution_count": null,
   "metadata": {
    "collapsed": true
   },
   "outputs": [],
   "source": [
    "# Set 'id' as index of household\n",
    "hhold = hhold.set_index(['id'])"
   ]
  },
  {
   "cell_type": "code",
   "execution_count": null,
   "metadata": {
    "collapsed": true
   },
   "outputs": [],
   "source": [
    "# Merge the household and individal data\n",
    "agg_df = pd.merge(hhold, result_agg, left_index=True, right_index=True)"
   ]
  },
  {
   "cell_type": "code",
   "execution_count": null,
   "metadata": {
    "collapsed": true
   },
   "outputs": [],
   "source": [
    "agg_df.head()"
   ]
  },
  {
   "cell_type": "code",
   "execution_count": null,
   "metadata": {
    "collapsed": true
   },
   "outputs": [],
   "source": [
    "agg_df.shape"
   ]
  },
  {
   "cell_type": "markdown",
   "metadata": {},
   "source": [
    "## Scale Numeric Data"
   ]
  },
  {
   "cell_type": "code",
   "execution_count": null,
   "metadata": {
    "collapsed": true
   },
   "outputs": [],
   "source": [
    "# Gather numeric cols\n",
    "num_cols = [col for col in agg_df if '_num' in col]"
   ]
  },
  {
   "cell_type": "code",
   "execution_count": null,
   "metadata": {
    "collapsed": true
   },
   "outputs": [],
   "source": [
    "# Scale using MinMaxScaler\n",
    "min_max = MinMaxScaler()\n",
    "agg_df[num_cols] = min_max.fit_transform(agg_df[num_cols])"
   ]
  },
  {
   "cell_type": "code",
   "execution_count": null,
   "metadata": {
    "collapsed": true
   },
   "outputs": [],
   "source": [
    "agg_df.head()"
   ]
  },
  {
   "cell_type": "code",
   "execution_count": null,
   "metadata": {
    "collapsed": true
   },
   "outputs": [],
   "source": [
    "# Output aggregate data and transformation dictionary as pickle files\n",
    "with open('agg_df.pickle', 'wb') as f:\n",
    "    pickle.dump(agg_df, f, pickle.HIGHEST_PROTOCOL)\n",
    "with open('indiv_transform_dict.pickle', 'wb') as f:\n",
    "    pickle.dump(transform_dict, f, pickle.HIGHEST_PROTOCOL)"
   ]
  },
  {
   "cell_type": "code",
   "execution_count": null,
   "metadata": {
    "collapsed": true
   },
   "outputs": [],
   "source": []
  }
 ],
 "metadata": {
  "kernelspec": {
   "display_name": "Python 3",
   "language": "python",
   "name": "python3"
  },
  "language_info": {
   "codemirror_mode": {
    "name": "ipython",
    "version": 3
   },
   "file_extension": ".py",
   "mimetype": "text/x-python",
   "name": "python",
   "nbconvert_exporter": "python",
   "pygments_lexer": "ipython3",
   "version": "3.6.4"
  }
 },
 "nbformat": 4,
 "nbformat_minor": 2
}
